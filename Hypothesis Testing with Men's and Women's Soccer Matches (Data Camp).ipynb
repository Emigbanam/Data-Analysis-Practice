{
 "cells": [
  {
   "metadata": {},
   "cell_type": "markdown",
   "source": [
    "You're working as a sports journalist at a major online sports media company, specializing in soccer analysis and reporting. You've been watching both men's and women's international soccer matches for a number of years, and your gut instinct tells you that more goals are scored in women's international football matches than men's. This would make an interesting investigative article that your subscribers are bound to love, but you'll need to perform a valid statistical hypothesis test to be sure!\n",
    "\n",
    "While scoping this project, you acknowledge that the sport has changed a lot over the years, and performances likely vary a lot depending on the tournament, so you decide to limit the data used in the analysis to only official FIFA World Cup matches (not including qualifiers) since 2002-01-01.\n",
    "\n",
    "You create two datasets containing the results of every official men's and women's international football match since the 19th century, which you scraped from a reliable online source. This data is stored in two CSV files: women_results.csv and men_results.csv.\n",
    "\n",
    "The question you are trying to determine the answer to is:\n",
    "\n",
    "Are more goals scored in women's international soccer matches than men's?\n",
    "\n",
    "You assume a 10% significance level, and use the following null and alternative hypotheses:\n",
    "\n",
    " H₀: The mean number of goals scored in women's international soccer matches is the same as men's.\n",
    "\n",
    " Hₐ: The mean number of goals scored in women's international soccer matches is greater than men's.\n",
    "\n",
    "---------------------------------------------------------------------------------"
   ],
   "id": "a392c4d025d2caba"
  },
  {
   "metadata": {},
   "cell_type": "markdown",
   "source": [
    "Project Instructions\n",
    "Perform an appropriate hypothesis test to determine the p-value, and hence result, of whether to reject or fail to reject the null hypothesis that the mean number of goals scored in women's international soccer matches is the same as men's. Use a 10% significance level.\n",
    "\n",
    "For this analysis, you'll use Official FIFA World Cup matches since 2002-01-01, and you'll also assume that each match is fully independent, i.e., team form is ignored.\n",
    "\n",
    "The p-value and the result of the test must be stored in a dictionary called result_dict in the form:\n",
    "\n",
    "result_dict = {\"p_val\": p_val, \"result\": result}\n",
    "\n",
    "where p_val is the p-value and result is either the string \"fail to reject\" or \"reject\", depending on the result of the test.\n",
    "\n",
    "\n",
    "\n",
    "How to approach the project\n",
    "1. Exploratory data analysis\n",
    "\n",
    "2. Filtering the data\n",
    "\n",
    "3. Choosing the correct hypothesis test\n",
    "\n",
    "4. Performing the hypothesis test\n",
    "\n",
    "5. Interpreting the result of the hypothesis test"
   ],
   "id": "926b01cf1c062b95"
  },
  {
   "metadata": {
    "ExecuteTime": {
     "end_time": "2025-07-07T22:47:36.509144Z",
     "start_time": "2025-07-07T22:47:36.498059Z"
    }
   },
   "cell_type": "code",
   "source": [
    "#Importing relevant libraries\n",
    "import pandas as pd\n",
    "import matplotlib.pyplot as plt\n",
    "import warnings\n",
    "warnings.filterwarnings(\"ignore\")\n",
    "import pingouin\n"
   ],
   "id": "3546a6284c17d381",
   "outputs": [],
   "execution_count": 96
  },
  {
   "metadata": {},
   "cell_type": "markdown",
   "source": "1. Exploratory data analysis",
   "id": "2c8eb403599fa3bb"
  },
  {
   "metadata": {
    "ExecuteTime": {
     "end_time": "2025-07-07T22:47:28.083418Z",
     "start_time": "2025-07-07T22:47:27.681760Z"
    }
   },
   "cell_type": "code",
   "source": [
    "#Load the data from men_results.csv and women_results.csv to understand its contents\n",
    "\n",
    "men = pd.read_csv(\"C:/Users/Emigb/Documents/Data Science/datasets/men_results.csv\")\n",
    "women = pd.read_csv(\"C:/Users/Emigb/Documents/Data Science/datasets/women_results.csv\")\n",
    "\n",
    "print(\"Men DataFrame:\")\n",
    "print(men.head())\n",
    "\n",
    "print(\"\\nWomen DataFrame:\")\n",
    "print(women.head())\n"
   ],
   "id": "3bb4ced9bba78c67",
   "outputs": [
    {
     "name": "stdout",
     "output_type": "stream",
     "text": [
      "Men DataFrame:\n",
      "   Unnamed: 0        date home_team away_team  home_score  away_score  \\\n",
      "0           0  1872-11-30  Scotland   England           0           0   \n",
      "1           1  1873-03-08   England  Scotland           4           2   \n",
      "2           2  1874-03-07  Scotland   England           2           1   \n",
      "3           3  1875-03-06   England  Scotland           2           2   \n",
      "4           4  1876-03-04  Scotland   England           3           0   \n",
      "\n",
      "  tournament  \n",
      "0   Friendly  \n",
      "1   Friendly  \n",
      "2   Friendly  \n",
      "3   Friendly  \n",
      "4   Friendly  \n",
      "\n",
      "Women DataFrame:\n",
      "   Unnamed: 0        date home_team  away_team  home_score  away_score  \\\n",
      "0           0  1969-11-01     Italy     France           1           0   \n",
      "1           1  1969-11-01   Denmark    England           4           3   \n",
      "2           2  1969-11-02   England     France           2           0   \n",
      "3           3  1969-11-02     Italy    Denmark           3           1   \n",
      "4           4  1975-08-25  Thailand  Australia           3           2   \n",
      "\n",
      "         tournament  \n",
      "0              Euro  \n",
      "1              Euro  \n",
      "2              Euro  \n",
      "3              Euro  \n",
      "4  AFC Championship  \n"
     ]
    }
   ],
   "execution_count": 80
  },
  {
   "cell_type": "code",
   "id": "initial_id",
   "metadata": {
    "collapsed": true,
    "ExecuteTime": {
     "end_time": "2025-07-07T22:47:28.189919Z",
     "start_time": "2025-07-07T22:47:28.097801Z"
    }
   },
   "source": [
    "#1b. Determining the column names, data types, and values\n",
    "\n",
    "men.info()"
   ],
   "outputs": [
    {
     "name": "stdout",
     "output_type": "stream",
     "text": [
      "<class 'pandas.core.frame.DataFrame'>\n",
      "RangeIndex: 44353 entries, 0 to 44352\n",
      "Data columns (total 7 columns):\n",
      " #   Column      Non-Null Count  Dtype \n",
      "---  ------      --------------  ----- \n",
      " 0   Unnamed: 0  44353 non-null  int64 \n",
      " 1   date        44353 non-null  object\n",
      " 2   home_team   44353 non-null  object\n",
      " 3   away_team   44353 non-null  object\n",
      " 4   home_score  44353 non-null  int64 \n",
      " 5   away_score  44353 non-null  int64 \n",
      " 6   tournament  44353 non-null  object\n",
      "dtypes: int64(3), object(4)\n",
      "memory usage: 2.4+ MB\n"
     ]
    }
   ],
   "execution_count": 81
  },
  {
   "metadata": {
    "ExecuteTime": {
     "end_time": "2025-07-07T22:47:28.252974Z",
     "start_time": "2025-07-07T22:47:28.214063Z"
    }
   },
   "cell_type": "code",
   "source": "men['tournament'].value_counts()",
   "id": "f425cb9226b2e9ba",
   "outputs": [
    {
     "data": {
      "text/plain": [
       "tournament\n",
       "Friendly                                17519\n",
       "FIFA World Cup qualification             7878\n",
       "UEFA Euro qualification                  2585\n",
       "African Cup of Nations qualification     1932\n",
       "FIFA World Cup                            964\n",
       "                                        ...  \n",
       "Évence Coppée Trophy                        1\n",
       "FIFA 75th Anniversary Cup                   1\n",
       "Real Madrid 75th Anniversary Cup            1\n",
       "TIFOCO Tournament                           1\n",
       "Copa Confraternidad                         1\n",
       "Name: count, Length: 141, dtype: int64"
      ]
     },
     "execution_count": 82,
     "metadata": {},
     "output_type": "execute_result"
    }
   ],
   "execution_count": 82
  },
  {
   "metadata": {
    "ExecuteTime": {
     "end_time": "2025-07-07T22:47:28.305122Z",
     "start_time": "2025-07-07T22:47:28.275701Z"
    }
   },
   "cell_type": "code",
   "source": "women.info()",
   "id": "272f4103811262df",
   "outputs": [
    {
     "name": "stdout",
     "output_type": "stream",
     "text": [
      "<class 'pandas.core.frame.DataFrame'>\n",
      "RangeIndex: 4884 entries, 0 to 4883\n",
      "Data columns (total 7 columns):\n",
      " #   Column      Non-Null Count  Dtype \n",
      "---  ------      --------------  ----- \n",
      " 0   Unnamed: 0  4884 non-null   int64 \n",
      " 1   date        4884 non-null   object\n",
      " 2   home_team   4884 non-null   object\n",
      " 3   away_team   4884 non-null   object\n",
      " 4   home_score  4884 non-null   int64 \n",
      " 5   away_score  4884 non-null   int64 \n",
      " 6   tournament  4884 non-null   object\n",
      "dtypes: int64(3), object(4)\n",
      "memory usage: 267.2+ KB\n"
     ]
    }
   ],
   "execution_count": 83
  },
  {
   "metadata": {
    "ExecuteTime": {
     "end_time": "2025-07-07T22:47:28.414938Z",
     "start_time": "2025-07-07T22:47:28.329721Z"
    }
   },
   "cell_type": "code",
   "source": [
    "#1c. Coverting the date column to date-time data type\n",
    "\n",
    "men['date'] = pd.to_datetime(men['date'])\n",
    "women['date'] = pd.to_datetime(women['date'])\n",
    "\n"
   ],
   "id": "e29f456bd79d2748",
   "outputs": [],
   "execution_count": 84
  },
  {
   "metadata": {
    "ExecuteTime": {
     "end_time": "2025-07-07T22:47:28.533428Z",
     "start_time": "2025-07-07T22:47:28.428216Z"
    }
   },
   "cell_type": "code",
   "source": [
    "#2. Filtering the data, Filter the data to only include official FIFA World Cup matches that took place after 2002-01-01.\n",
    "\n",
    "men_fifa = men[(men['tournament'] == 'FIFA World Cup') & (men['date'] > '2002-01-01')]\n",
    "men_fifa.head()"
   ],
   "id": "8e26e1a1255ea109",
   "outputs": [
    {
     "data": {
      "text/plain": [
       "       Unnamed: 0       date            home_team     away_team  home_score  \\\n",
       "25164       25164 2002-05-31               France       Senegal           0   \n",
       "25165       25165 2002-06-01              Germany  Saudi Arabia           8   \n",
       "25166       25166 2002-06-01  Republic of Ireland      Cameroon           1   \n",
       "25167       25167 2002-06-01              Uruguay       Denmark           1   \n",
       "25168       25168 2002-06-02            Argentina       Nigeria           1   \n",
       "\n",
       "       away_score      tournament  \n",
       "25164           1  FIFA World Cup  \n",
       "25165           0  FIFA World Cup  \n",
       "25166           1  FIFA World Cup  \n",
       "25167           2  FIFA World Cup  \n",
       "25168           0  FIFA World Cup  "
      ],
      "text/html": [
       "<div>\n",
       "<style scoped>\n",
       "    .dataframe tbody tr th:only-of-type {\n",
       "        vertical-align: middle;\n",
       "    }\n",
       "\n",
       "    .dataframe tbody tr th {\n",
       "        vertical-align: top;\n",
       "    }\n",
       "\n",
       "    .dataframe thead th {\n",
       "        text-align: right;\n",
       "    }\n",
       "</style>\n",
       "<table border=\"1\" class=\"dataframe\">\n",
       "  <thead>\n",
       "    <tr style=\"text-align: right;\">\n",
       "      <th></th>\n",
       "      <th>Unnamed: 0</th>\n",
       "      <th>date</th>\n",
       "      <th>home_team</th>\n",
       "      <th>away_team</th>\n",
       "      <th>home_score</th>\n",
       "      <th>away_score</th>\n",
       "      <th>tournament</th>\n",
       "    </tr>\n",
       "  </thead>\n",
       "  <tbody>\n",
       "    <tr>\n",
       "      <th>25164</th>\n",
       "      <td>25164</td>\n",
       "      <td>2002-05-31</td>\n",
       "      <td>France</td>\n",
       "      <td>Senegal</td>\n",
       "      <td>0</td>\n",
       "      <td>1</td>\n",
       "      <td>FIFA World Cup</td>\n",
       "    </tr>\n",
       "    <tr>\n",
       "      <th>25165</th>\n",
       "      <td>25165</td>\n",
       "      <td>2002-06-01</td>\n",
       "      <td>Germany</td>\n",
       "      <td>Saudi Arabia</td>\n",
       "      <td>8</td>\n",
       "      <td>0</td>\n",
       "      <td>FIFA World Cup</td>\n",
       "    </tr>\n",
       "    <tr>\n",
       "      <th>25166</th>\n",
       "      <td>25166</td>\n",
       "      <td>2002-06-01</td>\n",
       "      <td>Republic of Ireland</td>\n",
       "      <td>Cameroon</td>\n",
       "      <td>1</td>\n",
       "      <td>1</td>\n",
       "      <td>FIFA World Cup</td>\n",
       "    </tr>\n",
       "    <tr>\n",
       "      <th>25167</th>\n",
       "      <td>25167</td>\n",
       "      <td>2002-06-01</td>\n",
       "      <td>Uruguay</td>\n",
       "      <td>Denmark</td>\n",
       "      <td>1</td>\n",
       "      <td>2</td>\n",
       "      <td>FIFA World Cup</td>\n",
       "    </tr>\n",
       "    <tr>\n",
       "      <th>25168</th>\n",
       "      <td>25168</td>\n",
       "      <td>2002-06-02</td>\n",
       "      <td>Argentina</td>\n",
       "      <td>Nigeria</td>\n",
       "      <td>1</td>\n",
       "      <td>0</td>\n",
       "      <td>FIFA World Cup</td>\n",
       "    </tr>\n",
       "  </tbody>\n",
       "</table>\n",
       "</div>"
      ]
     },
     "execution_count": 85,
     "metadata": {},
     "output_type": "execute_result"
    }
   ],
   "execution_count": 85
  },
  {
   "metadata": {
    "ExecuteTime": {
     "end_time": "2025-07-07T22:47:28.608327Z",
     "start_time": "2025-07-07T22:47:28.561887Z"
    }
   },
   "cell_type": "code",
   "source": [
    "women_fifa = women[(women['tournament'] == 'FIFA World Cup') & (women['date'] > '2002-01-01')]\n",
    "women_fifa.head()"
   ],
   "id": "410cd0639b6b8d41",
   "outputs": [
    {
     "data": {
      "text/plain": [
       "      Unnamed: 0       date      home_team    away_team  home_score  \\\n",
       "1600        1600 2003-09-20        Nigeria  North Korea           0   \n",
       "1601        1601 2003-09-20         Norway       France           2   \n",
       "1602        1602 2003-09-20        Germany       Canada           4   \n",
       "1603        1603 2003-09-20          Japan    Argentina           6   \n",
       "1604        1604 2003-09-21  United States       Sweden           3   \n",
       "\n",
       "      away_score      tournament  \n",
       "1600           3  FIFA World Cup  \n",
       "1601           0  FIFA World Cup  \n",
       "1602           1  FIFA World Cup  \n",
       "1603           0  FIFA World Cup  \n",
       "1604           1  FIFA World Cup  "
      ],
      "text/html": [
       "<div>\n",
       "<style scoped>\n",
       "    .dataframe tbody tr th:only-of-type {\n",
       "        vertical-align: middle;\n",
       "    }\n",
       "\n",
       "    .dataframe tbody tr th {\n",
       "        vertical-align: top;\n",
       "    }\n",
       "\n",
       "    .dataframe thead th {\n",
       "        text-align: right;\n",
       "    }\n",
       "</style>\n",
       "<table border=\"1\" class=\"dataframe\">\n",
       "  <thead>\n",
       "    <tr style=\"text-align: right;\">\n",
       "      <th></th>\n",
       "      <th>Unnamed: 0</th>\n",
       "      <th>date</th>\n",
       "      <th>home_team</th>\n",
       "      <th>away_team</th>\n",
       "      <th>home_score</th>\n",
       "      <th>away_score</th>\n",
       "      <th>tournament</th>\n",
       "    </tr>\n",
       "  </thead>\n",
       "  <tbody>\n",
       "    <tr>\n",
       "      <th>1600</th>\n",
       "      <td>1600</td>\n",
       "      <td>2003-09-20</td>\n",
       "      <td>Nigeria</td>\n",
       "      <td>North Korea</td>\n",
       "      <td>0</td>\n",
       "      <td>3</td>\n",
       "      <td>FIFA World Cup</td>\n",
       "    </tr>\n",
       "    <tr>\n",
       "      <th>1601</th>\n",
       "      <td>1601</td>\n",
       "      <td>2003-09-20</td>\n",
       "      <td>Norway</td>\n",
       "      <td>France</td>\n",
       "      <td>2</td>\n",
       "      <td>0</td>\n",
       "      <td>FIFA World Cup</td>\n",
       "    </tr>\n",
       "    <tr>\n",
       "      <th>1602</th>\n",
       "      <td>1602</td>\n",
       "      <td>2003-09-20</td>\n",
       "      <td>Germany</td>\n",
       "      <td>Canada</td>\n",
       "      <td>4</td>\n",
       "      <td>1</td>\n",
       "      <td>FIFA World Cup</td>\n",
       "    </tr>\n",
       "    <tr>\n",
       "      <th>1603</th>\n",
       "      <td>1603</td>\n",
       "      <td>2003-09-20</td>\n",
       "      <td>Japan</td>\n",
       "      <td>Argentina</td>\n",
       "      <td>6</td>\n",
       "      <td>0</td>\n",
       "      <td>FIFA World Cup</td>\n",
       "    </tr>\n",
       "    <tr>\n",
       "      <th>1604</th>\n",
       "      <td>1604</td>\n",
       "      <td>2003-09-21</td>\n",
       "      <td>United States</td>\n",
       "      <td>Sweden</td>\n",
       "      <td>3</td>\n",
       "      <td>1</td>\n",
       "      <td>FIFA World Cup</td>\n",
       "    </tr>\n",
       "  </tbody>\n",
       "</table>\n",
       "</div>"
      ]
     },
     "execution_count": 86,
     "metadata": {},
     "output_type": "execute_result"
    }
   ],
   "execution_count": 86
  },
  {
   "metadata": {},
   "cell_type": "markdown",
   "source": "3. Choosing the correct hypothesis test",
   "id": "dd68940f6acd7304"
  },
  {
   "metadata": {
    "ExecuteTime": {
     "end_time": "2025-07-07T22:47:28.695646Z",
     "start_time": "2025-07-07T22:47:28.655338Z"
    }
   },
   "cell_type": "code",
   "source": [
    "#3. Create New Columns: 'group' and 'goals_scored'\n",
    "men_fifa['group'] = 'men'\n",
    "women_fifa['group'] = 'women'\n",
    "\n",
    "men_fifa['total_goals'] = men_fifa['home_score'] + men_fifa['away_score']\n",
    "women_fifa['total_goals'] = women_fifa['home_score'] + women_fifa['away_score']\n",
    "\n",
    "\n",
    "#You need the total goals per match for comparison, and the group labels help when merging both datasets.\n"
   ],
   "id": "6fb997715e8b01b6",
   "outputs": [],
   "execution_count": 87
  },
  {
   "metadata": {
    "ExecuteTime": {
     "end_time": "2025-07-07T22:47:28.750268Z",
     "start_time": "2025-07-07T22:47:28.709546Z"
    }
   },
   "cell_type": "code",
   "source": "men_fifa.head()",
   "id": "b7243291f2e4a13d",
   "outputs": [
    {
     "data": {
      "text/plain": [
       "       Unnamed: 0       date            home_team     away_team  home_score  \\\n",
       "25164       25164 2002-05-31               France       Senegal           0   \n",
       "25165       25165 2002-06-01              Germany  Saudi Arabia           8   \n",
       "25166       25166 2002-06-01  Republic of Ireland      Cameroon           1   \n",
       "25167       25167 2002-06-01              Uruguay       Denmark           1   \n",
       "25168       25168 2002-06-02            Argentina       Nigeria           1   \n",
       "\n",
       "       away_score      tournament group  total_goals  \n",
       "25164           1  FIFA World Cup   men            1  \n",
       "25165           0  FIFA World Cup   men            8  \n",
       "25166           1  FIFA World Cup   men            2  \n",
       "25167           2  FIFA World Cup   men            3  \n",
       "25168           0  FIFA World Cup   men            1  "
      ],
      "text/html": [
       "<div>\n",
       "<style scoped>\n",
       "    .dataframe tbody tr th:only-of-type {\n",
       "        vertical-align: middle;\n",
       "    }\n",
       "\n",
       "    .dataframe tbody tr th {\n",
       "        vertical-align: top;\n",
       "    }\n",
       "\n",
       "    .dataframe thead th {\n",
       "        text-align: right;\n",
       "    }\n",
       "</style>\n",
       "<table border=\"1\" class=\"dataframe\">\n",
       "  <thead>\n",
       "    <tr style=\"text-align: right;\">\n",
       "      <th></th>\n",
       "      <th>Unnamed: 0</th>\n",
       "      <th>date</th>\n",
       "      <th>home_team</th>\n",
       "      <th>away_team</th>\n",
       "      <th>home_score</th>\n",
       "      <th>away_score</th>\n",
       "      <th>tournament</th>\n",
       "      <th>group</th>\n",
       "      <th>total_goals</th>\n",
       "    </tr>\n",
       "  </thead>\n",
       "  <tbody>\n",
       "    <tr>\n",
       "      <th>25164</th>\n",
       "      <td>25164</td>\n",
       "      <td>2002-05-31</td>\n",
       "      <td>France</td>\n",
       "      <td>Senegal</td>\n",
       "      <td>0</td>\n",
       "      <td>1</td>\n",
       "      <td>FIFA World Cup</td>\n",
       "      <td>men</td>\n",
       "      <td>1</td>\n",
       "    </tr>\n",
       "    <tr>\n",
       "      <th>25165</th>\n",
       "      <td>25165</td>\n",
       "      <td>2002-06-01</td>\n",
       "      <td>Germany</td>\n",
       "      <td>Saudi Arabia</td>\n",
       "      <td>8</td>\n",
       "      <td>0</td>\n",
       "      <td>FIFA World Cup</td>\n",
       "      <td>men</td>\n",
       "      <td>8</td>\n",
       "    </tr>\n",
       "    <tr>\n",
       "      <th>25166</th>\n",
       "      <td>25166</td>\n",
       "      <td>2002-06-01</td>\n",
       "      <td>Republic of Ireland</td>\n",
       "      <td>Cameroon</td>\n",
       "      <td>1</td>\n",
       "      <td>1</td>\n",
       "      <td>FIFA World Cup</td>\n",
       "      <td>men</td>\n",
       "      <td>2</td>\n",
       "    </tr>\n",
       "    <tr>\n",
       "      <th>25167</th>\n",
       "      <td>25167</td>\n",
       "      <td>2002-06-01</td>\n",
       "      <td>Uruguay</td>\n",
       "      <td>Denmark</td>\n",
       "      <td>1</td>\n",
       "      <td>2</td>\n",
       "      <td>FIFA World Cup</td>\n",
       "      <td>men</td>\n",
       "      <td>3</td>\n",
       "    </tr>\n",
       "    <tr>\n",
       "      <th>25168</th>\n",
       "      <td>25168</td>\n",
       "      <td>2002-06-02</td>\n",
       "      <td>Argentina</td>\n",
       "      <td>Nigeria</td>\n",
       "      <td>1</td>\n",
       "      <td>0</td>\n",
       "      <td>FIFA World Cup</td>\n",
       "      <td>men</td>\n",
       "      <td>1</td>\n",
       "    </tr>\n",
       "  </tbody>\n",
       "</table>\n",
       "</div>"
      ]
     },
     "execution_count": 88,
     "metadata": {},
     "output_type": "execute_result"
    }
   ],
   "execution_count": 88
  },
  {
   "metadata": {
    "ExecuteTime": {
     "end_time": "2025-07-07T22:47:28.793611Z",
     "start_time": "2025-07-07T22:47:28.768839Z"
    }
   },
   "cell_type": "code",
   "source": "women_fifa.head()",
   "id": "df2d1ad3dc973927",
   "outputs": [
    {
     "data": {
      "text/plain": [
       "      Unnamed: 0       date      home_team    away_team  home_score  \\\n",
       "1600        1600 2003-09-20        Nigeria  North Korea           0   \n",
       "1601        1601 2003-09-20         Norway       France           2   \n",
       "1602        1602 2003-09-20        Germany       Canada           4   \n",
       "1603        1603 2003-09-20          Japan    Argentina           6   \n",
       "1604        1604 2003-09-21  United States       Sweden           3   \n",
       "\n",
       "      away_score      tournament  group  total_goals  \n",
       "1600           3  FIFA World Cup  women            3  \n",
       "1601           0  FIFA World Cup  women            2  \n",
       "1602           1  FIFA World Cup  women            5  \n",
       "1603           0  FIFA World Cup  women            6  \n",
       "1604           1  FIFA World Cup  women            4  "
      ],
      "text/html": [
       "<div>\n",
       "<style scoped>\n",
       "    .dataframe tbody tr th:only-of-type {\n",
       "        vertical-align: middle;\n",
       "    }\n",
       "\n",
       "    .dataframe tbody tr th {\n",
       "        vertical-align: top;\n",
       "    }\n",
       "\n",
       "    .dataframe thead th {\n",
       "        text-align: right;\n",
       "    }\n",
       "</style>\n",
       "<table border=\"1\" class=\"dataframe\">\n",
       "  <thead>\n",
       "    <tr style=\"text-align: right;\">\n",
       "      <th></th>\n",
       "      <th>Unnamed: 0</th>\n",
       "      <th>date</th>\n",
       "      <th>home_team</th>\n",
       "      <th>away_team</th>\n",
       "      <th>home_score</th>\n",
       "      <th>away_score</th>\n",
       "      <th>tournament</th>\n",
       "      <th>group</th>\n",
       "      <th>total_goals</th>\n",
       "    </tr>\n",
       "  </thead>\n",
       "  <tbody>\n",
       "    <tr>\n",
       "      <th>1600</th>\n",
       "      <td>1600</td>\n",
       "      <td>2003-09-20</td>\n",
       "      <td>Nigeria</td>\n",
       "      <td>North Korea</td>\n",
       "      <td>0</td>\n",
       "      <td>3</td>\n",
       "      <td>FIFA World Cup</td>\n",
       "      <td>women</td>\n",
       "      <td>3</td>\n",
       "    </tr>\n",
       "    <tr>\n",
       "      <th>1601</th>\n",
       "      <td>1601</td>\n",
       "      <td>2003-09-20</td>\n",
       "      <td>Norway</td>\n",
       "      <td>France</td>\n",
       "      <td>2</td>\n",
       "      <td>0</td>\n",
       "      <td>FIFA World Cup</td>\n",
       "      <td>women</td>\n",
       "      <td>2</td>\n",
       "    </tr>\n",
       "    <tr>\n",
       "      <th>1602</th>\n",
       "      <td>1602</td>\n",
       "      <td>2003-09-20</td>\n",
       "      <td>Germany</td>\n",
       "      <td>Canada</td>\n",
       "      <td>4</td>\n",
       "      <td>1</td>\n",
       "      <td>FIFA World Cup</td>\n",
       "      <td>women</td>\n",
       "      <td>5</td>\n",
       "    </tr>\n",
       "    <tr>\n",
       "      <th>1603</th>\n",
       "      <td>1603</td>\n",
       "      <td>2003-09-20</td>\n",
       "      <td>Japan</td>\n",
       "      <td>Argentina</td>\n",
       "      <td>6</td>\n",
       "      <td>0</td>\n",
       "      <td>FIFA World Cup</td>\n",
       "      <td>women</td>\n",
       "      <td>6</td>\n",
       "    </tr>\n",
       "    <tr>\n",
       "      <th>1604</th>\n",
       "      <td>1604</td>\n",
       "      <td>2003-09-21</td>\n",
       "      <td>United States</td>\n",
       "      <td>Sweden</td>\n",
       "      <td>3</td>\n",
       "      <td>1</td>\n",
       "      <td>FIFA World Cup</td>\n",
       "      <td>women</td>\n",
       "      <td>4</td>\n",
       "    </tr>\n",
       "  </tbody>\n",
       "</table>\n",
       "</div>"
      ]
     },
     "execution_count": 89,
     "metadata": {},
     "output_type": "execute_result"
    }
   ],
   "execution_count": 89
  },
  {
   "metadata": {},
   "cell_type": "markdown",
   "source": [
    "Because there are two independent groups, men's and women's, this scenario requires an unpaired two-sample test.\n",
    "An unpaired t-test and a Wilcoxon-Mann-Whitney test are the two most commmon two-sample tests, where the Wilcoxon-Mann-Whitney test is a non-parametric version of the unpaired t-test.\n",
    "To determine if a parametric or non-parametric test is appropriate, you'll need to verify the underlying assumptions of parametric tests, including checking the sample size in each group and the normality of each distribution.\n",
    "\n",
    "\n",
    "----------------------------------------------------------------------------\n",
    "\n"
   ],
   "id": "b8b761dc6589861"
  },
  {
   "metadata": {},
   "cell_type": "markdown",
   "source": "Determining if the data is normally distributed",
   "id": "1bc38efbbd147e50"
  },
  {
   "metadata": {},
   "cell_type": "markdown",
   "source": [
    "The normal distribution is a symmetric bell-shaped curve, with the distribution centered around the mean.\n",
    "Plotting a histogram displaying the distribution of the number of goals scored in men's and women's matches will give you an idea about whether the dataset is normally distributed or not.\n",
    "If the normality is unclear from the plot, you can run a test of normality, such as a Kolmogorov–Smirnov test or the Shapiro–Wilk test."
   ],
   "id": "65722d2f3a6511ba"
  },
  {
   "metadata": {
    "ExecuteTime": {
     "end_time": "2025-07-07T22:47:29.285898Z",
     "start_time": "2025-07-07T22:47:28.829713Z"
    }
   },
   "cell_type": "code",
   "source": [
    "#4. Plot Histogram to Check for Normality\n",
    "\n",
    "plt.hist(men_fifa['total_goals'])\n",
    "plt.gca().grid(True)\n",
    "plt.show()\n"
   ],
   "id": "833bdd209d80d5bf",
   "outputs": [
    {
     "data": {
      "text/plain": [
       "<Figure size 640x480 with 1 Axes>"
      ],
      "image/png": "[encoded data removed]"
     },
     "metadata": {},
     "output_type": "display_data"
    }
   ],
   "execution_count": 90
  },
  {
   "metadata": {
    "ExecuteTime": {
     "end_time": "2025-07-07T22:47:29.417943Z",
     "start_time": "2025-07-07T22:47:29.297521Z"
    }
   },
   "cell_type": "code",
   "source": [
    "plt.hist(women_fifa['total_goals'])\n",
    "plt.gca().grid(True)\n",
    "plt.show()"
   ],
   "id": "acda1039db18b572",
   "outputs": [
    {
     "data": {
      "text/plain": [
       "<Figure size 640x480 with 1 Axes>"
      ],
      "image/png": "[encoded data removed]"
     },
     "metadata": {},
     "output_type": "display_data"
    }
   ],
   "execution_count": 91
  },
  {
   "metadata": {},
   "cell_type": "markdown",
   "source": [
    "Performing the hypothesis test\n",
    "-------------------------------------------------------\n",
    "Once you've decided on the correct hypothesis test to perform, carry out the test to return the p-value."
   ],
   "id": "d2ea6199fd0351d2"
  },
  {
   "metadata": {
    "ExecuteTime": {
     "end_time": "2025-07-07T22:47:29.466212Z",
     "start_time": "2025-07-07T22:47:29.430002Z"
    }
   },
   "cell_type": "code",
   "source": [
    "#Combine dataset\n",
    "men_women = pd.concat([men_fifa, women_fifa], axis=0, ignore_index=True)\n",
    "men_women.head()"
   ],
   "id": "436ac0176c86b081",
   "outputs": [
    {
     "data": {
      "text/plain": [
       "   Unnamed: 0       date            home_team     away_team  home_score  \\\n",
       "0       25164 2002-05-31               France       Senegal           0   \n",
       "1       25165 2002-06-01              Germany  Saudi Arabia           8   \n",
       "2       25166 2002-06-01  Republic of Ireland      Cameroon           1   \n",
       "3       25167 2002-06-01              Uruguay       Denmark           1   \n",
       "4       25168 2002-06-02            Argentina       Nigeria           1   \n",
       "\n",
       "   away_score      tournament group  total_goals  \n",
       "0           1  FIFA World Cup   men            1  \n",
       "1           0  FIFA World Cup   men            8  \n",
       "2           1  FIFA World Cup   men            2  \n",
       "3           2  FIFA World Cup   men            3  \n",
       "4           0  FIFA World Cup   men            1  "
      ],
      "text/html": [
       "<div>\n",
       "<style scoped>\n",
       "    .dataframe tbody tr th:only-of-type {\n",
       "        vertical-align: middle;\n",
       "    }\n",
       "\n",
       "    .dataframe tbody tr th {\n",
       "        vertical-align: top;\n",
       "    }\n",
       "\n",
       "    .dataframe thead th {\n",
       "        text-align: right;\n",
       "    }\n",
       "</style>\n",
       "<table border=\"1\" class=\"dataframe\">\n",
       "  <thead>\n",
       "    <tr style=\"text-align: right;\">\n",
       "      <th></th>\n",
       "      <th>Unnamed: 0</th>\n",
       "      <th>date</th>\n",
       "      <th>home_team</th>\n",
       "      <th>away_team</th>\n",
       "      <th>home_score</th>\n",
       "      <th>away_score</th>\n",
       "      <th>tournament</th>\n",
       "      <th>group</th>\n",
       "      <th>total_goals</th>\n",
       "    </tr>\n",
       "  </thead>\n",
       "  <tbody>\n",
       "    <tr>\n",
       "      <th>0</th>\n",
       "      <td>25164</td>\n",
       "      <td>2002-05-31</td>\n",
       "      <td>France</td>\n",
       "      <td>Senegal</td>\n",
       "      <td>0</td>\n",
       "      <td>1</td>\n",
       "      <td>FIFA World Cup</td>\n",
       "      <td>men</td>\n",
       "      <td>1</td>\n",
       "    </tr>\n",
       "    <tr>\n",
       "      <th>1</th>\n",
       "      <td>25165</td>\n",
       "      <td>2002-06-01</td>\n",
       "      <td>Germany</td>\n",
       "      <td>Saudi Arabia</td>\n",
       "      <td>8</td>\n",
       "      <td>0</td>\n",
       "      <td>FIFA World Cup</td>\n",
       "      <td>men</td>\n",
       "      <td>8</td>\n",
       "    </tr>\n",
       "    <tr>\n",
       "      <th>2</th>\n",
       "      <td>25166</td>\n",
       "      <td>2002-06-01</td>\n",
       "      <td>Republic of Ireland</td>\n",
       "      <td>Cameroon</td>\n",
       "      <td>1</td>\n",
       "      <td>1</td>\n",
       "      <td>FIFA World Cup</td>\n",
       "      <td>men</td>\n",
       "      <td>2</td>\n",
       "    </tr>\n",
       "    <tr>\n",
       "      <th>3</th>\n",
       "      <td>25167</td>\n",
       "      <td>2002-06-01</td>\n",
       "      <td>Uruguay</td>\n",
       "      <td>Denmark</td>\n",
       "      <td>1</td>\n",
       "      <td>2</td>\n",
       "      <td>FIFA World Cup</td>\n",
       "      <td>men</td>\n",
       "      <td>3</td>\n",
       "    </tr>\n",
       "    <tr>\n",
       "      <th>4</th>\n",
       "      <td>25168</td>\n",
       "      <td>2002-06-02</td>\n",
       "      <td>Argentina</td>\n",
       "      <td>Nigeria</td>\n",
       "      <td>1</td>\n",
       "      <td>0</td>\n",
       "      <td>FIFA World Cup</td>\n",
       "      <td>men</td>\n",
       "      <td>1</td>\n",
       "    </tr>\n",
       "  </tbody>\n",
       "</table>\n",
       "</div>"
      ]
     },
     "execution_count": 92,
     "metadata": {},
     "output_type": "execute_result"
    }
   ],
   "execution_count": 92
  },
  {
   "metadata": {
    "ExecuteTime": {
     "end_time": "2025-07-07T22:47:29.578046Z",
     "start_time": "2025-07-07T22:47:29.477594Z"
    }
   },
   "cell_type": "code",
   "source": [
    "#Hypothesis testing using pingouin (Wilcoxon-Mann-Whitney test)\n",
    "#Step1: Convert Data to long format\n",
    "mw_wide = men_women.pivot(columns = 'group',\n",
    "                          values = 'total_goals')\n",
    "\n",
    "#Step2: Run the Mann-Whitney U Test (Pingouin)\n",
    "result_mw = pingouin.mwu(x=mw_wide['women'],\n",
    "             y=mw_wide['men'],\n",
    "             alternative='greater')\n",
    "\n",
    "print(result_mw)\n"
   ],
   "id": "bed0e86f5e27d55f",
   "outputs": [
    {
     "name": "stdout",
     "output_type": "stream",
     "text": [
      "       U-val alternative     p-val       RBC      CLES\n",
      "MWU  43273.0     greater  0.005107  0.126901  0.563451\n"
     ]
    }
   ],
   "execution_count": 93
  },
  {
   "metadata": {
    "ExecuteTime": {
     "end_time": "2025-07-07T22:47:29.610523Z",
     "start_time": "2025-07-07T22:47:29.601197Z"
    }
   },
   "cell_type": "code",
   "source": [
    "p_val = result_mw['p-val'].values[0]\n",
    "print(p_val)"
   ],
   "id": "2ffa132f08895277",
   "outputs": [
    {
     "name": "stdout",
     "output_type": "stream",
     "text": [
      "0.005106609825443641\n"
     ]
    }
   ],
   "execution_count": 94
  },
  {
   "metadata": {
    "ExecuteTime": {
     "end_time": "2025-07-07T22:47:29.653346Z",
     "start_time": "2025-07-07T22:47:29.639236Z"
    }
   },
   "cell_type": "code",
   "source": [
    "# Determine hypothesis test result using sig. level\n",
    "\n",
    "if p_val <= 0.01:\n",
    "    result = \"reject\"\n",
    "else:\n",
    "    result = \"fail to reject\"\n",
    "\n",
    "result_dict = {\"p_val\": p_val, \"result\": result}\n",
    "result_dict"
   ],
   "id": "2d88d5dca8fee7bc",
   "outputs": [
    {
     "data": {
      "text/plain": [
       "{'p_val': np.float64(0.005106609825443641), 'result': 'reject'}"
      ]
     },
     "execution_count": 95,
     "metadata": {},
     "output_type": "execute_result"
    }
   ],
   "execution_count": 95
  },
  {
   "metadata": {
    "ExecuteTime": {
     "end_time": "2025-07-07T22:47:29.670955Z",
     "start_time": "2025-07-07T22:47:29.666001Z"
    }
   },
   "cell_type": "code",
   "source": "",
   "id": "a892b4b7062e7fd9",
   "outputs": [],
   "execution_count": null
  }
 ],
 "metadata": {
  "kernelspec": {
   "display_name": "Python 3",
   "language": "python",
   "name": "python3"
  },
  "language_info": {
   "codemirror_mode": {
    "name": "ipython",
    "version": 2
   },
   "file_extension": ".py",
   "mimetype": "text/x-python",
   "name": "python",
   "nbconvert_exporter": "python",
   "pygments_lexer": "ipython2",
   "version": "2.7.6"
  }
 },
 "nbformat": 4,
 "nbformat_minor": 5
}

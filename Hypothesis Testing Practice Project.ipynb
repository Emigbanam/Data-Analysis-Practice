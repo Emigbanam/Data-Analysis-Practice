{
 "cells": [
  {
   "metadata": {},
   "cell_type": "markdown",
   "source": [
    "Project Instructions\n",
    "Perform an appropriate hypothesis test to determine the p-value, and hence result, of whether to reject or fail to reject the null hypothesis that the mean number of goals scored in women's international soccer matches is the same as men's. Use a 10% significance level.\n",
    "\n",
    "For this analysis, you'll use Official FIFA World Cup matches since 2002-01-01, and you'll also assume that each match is fully independent, i.e., team form is ignored.\n",
    "\n",
    "The p-value and the result of the test must be stored in a dictionary called result_dict in the form:\n",
    "\n",
    "result_dict = {\"p_val\": p_val, \"result\": result}\n",
    "\n",
    "where p_val is the p-value and result is either the string \"fail to reject\" or \"reject\", depending on the result of the test.\n",
    "\n",
    "\n",
    "\n",
    "How to approach the project\n",
    "1. Exploratory data analysis\n",
    "\n",
    "2. Filtering the data\n",
    "\n",
    "3. Choosing the correct hypothesis test\n",
    "\n",
    "4. Performing the hypothesis test\n",
    "\n",
    "5. Interpreting the result of the hypothesis test"
   ],
   "id": "926b01cf1c062b95"
  },
  {
   "metadata": {
    "ExecuteTime": {
     "end_time": "2025-07-07T21:14:21.559410Z",
     "start_time": "2025-07-07T21:14:11.993969Z"
    }
   },
   "cell_type": "code",
   "source": [
    "#Importing relevant libraries\n",
    "import numpy as np\n",
    "import pandas as pd\n",
    "import matplotlib.pyplot as plt"
   ],
   "id": "3546a6284c17d381",
   "outputs": [],
   "execution_count": 1
  },
  {
   "metadata": {},
   "cell_type": "markdown",
   "source": "1. Exploratory data analysis",
   "id": "2c8eb403599fa3bb"
  },
  {
   "metadata": {
    "ExecuteTime": {
     "end_time": "2025-07-07T21:22:40.395576Z",
     "start_time": "2025-07-07T21:22:40.314406Z"
    }
   },
   "cell_type": "code",
   "source": [
    "#Load the data from men_results.csv and women_results.csv to understand its contents\n",
    "\n",
    "men = pd.read_csv(\"C:/Users/Emigb/Documents/Data Science/datasets/men_results.csv\")\n",
    "women = pd.read_csv(\"C:/Users/Emigb/Documents/Data Science/datasets/women_results.csv\")\n",
    "\n",
    "print(\"Men DataFrame:\")\n",
    "print(men.head())\n",
    "\n",
    "print(\"\\nWomen DataFrame:\")\n",
    "print(women.head())\n"
   ],
   "id": "3bb4ced9bba78c67",
   "outputs": [
    {
     "name": "stdout",
     "output_type": "stream",
     "text": [
      "Men DataFrame:\n",
      "   Unnamed: 0        date home_team away_team  home_score  away_score  \\\n",
      "0           0  1872-11-30  Scotland   England           0           0   \n",
      "1           1  1873-03-08   England  Scotland           4           2   \n",
      "2           2  1874-03-07  Scotland   England           2           1   \n",
      "3           3  1875-03-06   England  Scotland           2           2   \n",
      "4           4  1876-03-04  Scotland   England           3           0   \n",
      "\n",
      "  tournament  \n",
      "0   Friendly  \n",
      "1   Friendly  \n",
      "2   Friendly  \n",
      "3   Friendly  \n",
      "4   Friendly  \n",
      "\n",
      "Women DataFrame:\n",
      "   Unnamed: 0        date home_team  away_team  home_score  away_score  \\\n",
      "0           0  1969-11-01     Italy     France           1           0   \n",
      "1           1  1969-11-01   Denmark    England           4           3   \n",
      "2           2  1969-11-02   England     France           2           0   \n",
      "3           3  1969-11-02     Italy    Denmark           3           1   \n",
      "4           4  1975-08-25  Thailand  Australia           3           2   \n",
      "\n",
      "         tournament  \n",
      "0              Euro  \n",
      "1              Euro  \n",
      "2              Euro  \n",
      "3              Euro  \n",
      "4  AFC Championship  \n"
     ]
    }
   ],
   "execution_count": 12
  },
  {
   "cell_type": "code",
   "id": "initial_id",
   "metadata": {
    "collapsed": true,
    "ExecuteTime": {
     "end_time": "2025-07-07T21:23:42.312380Z",
     "start_time": "2025-07-07T21:23:42.285912Z"
    }
   },
   "source": [
    "#1b. Determining the column names, data types, and values\n",
    "\n",
    "men.info()"
   ],
   "outputs": [
    {
     "name": "stdout",
     "output_type": "stream",
     "text": [
      "<class 'pandas.core.frame.DataFrame'>\n",
      "RangeIndex: 44353 entries, 0 to 44352\n",
      "Data columns (total 7 columns):\n",
      " #   Column      Non-Null Count  Dtype \n",
      "---  ------      --------------  ----- \n",
      " 0   Unnamed: 0  44353 non-null  int64 \n",
      " 1   date        44353 non-null  object\n",
      " 2   home_team   44353 non-null  object\n",
      " 3   away_team   44353 non-null  object\n",
      " 4   home_score  44353 non-null  int64 \n",
      " 5   away_score  44353 non-null  int64 \n",
      " 6   tournament  44353 non-null  object\n",
      "dtypes: int64(3), object(4)\n",
      "memory usage: 2.4+ MB\n"
     ]
    }
   ],
   "execution_count": 16
  },
  {
   "metadata": {
    "ExecuteTime": {
     "end_time": "2025-07-07T21:32:28.783235Z",
     "start_time": "2025-07-07T21:32:28.757511Z"
    }
   },
   "cell_type": "code",
   "source": "men['tournament'].value_counts()",
   "id": "f425cb9226b2e9ba",
   "outputs": [
    {
     "data": {
      "text/plain": [
       "tournament\n",
       "Friendly                                17519\n",
       "FIFA World Cup qualification             7878\n",
       "UEFA Euro qualification                  2585\n",
       "African Cup of Nations qualification     1932\n",
       "FIFA World Cup                            964\n",
       "                                        ...  \n",
       "Évence Coppée Trophy                        1\n",
       "FIFA 75th Anniversary Cup                   1\n",
       "Real Madrid 75th Anniversary Cup            1\n",
       "TIFOCO Tournament                           1\n",
       "Copa Confraternidad                         1\n",
       "Name: count, Length: 141, dtype: int64"
      ]
     },
     "execution_count": 21,
     "metadata": {},
     "output_type": "execute_result"
    }
   ],
   "execution_count": 21
  },
  {
   "metadata": {
    "ExecuteTime": {
     "end_time": "2025-07-07T21:23:16.737912Z",
     "start_time": "2025-07-07T21:23:16.716910Z"
    }
   },
   "cell_type": "code",
   "source": "women.info()",
   "id": "272f4103811262df",
   "outputs": [
    {
     "name": "stdout",
     "output_type": "stream",
     "text": [
      "<class 'pandas.core.frame.DataFrame'>\n",
      "RangeIndex: 4884 entries, 0 to 4883\n",
      "Data columns (total 7 columns):\n",
      " #   Column      Non-Null Count  Dtype \n",
      "---  ------      --------------  ----- \n",
      " 0   Unnamed: 0  4884 non-null   int64 \n",
      " 1   date        4884 non-null   object\n",
      " 2   home_team   4884 non-null   object\n",
      " 3   away_team   4884 non-null   object\n",
      " 4   home_score  4884 non-null   int64 \n",
      " 5   away_score  4884 non-null   int64 \n",
      " 6   tournament  4884 non-null   object\n",
      "dtypes: int64(3), object(4)\n",
      "memory usage: 267.2+ KB\n"
     ]
    }
   ],
   "execution_count": 14
  },
  {
   "metadata": {
    "ExecuteTime": {
     "end_time": "2025-07-07T21:28:24.212948Z",
     "start_time": "2025-07-07T21:28:24.137232Z"
    }
   },
   "cell_type": "code",
   "source": [
    "#1c. Coverting the date column to date-time data type\n",
    "\n",
    "men['date'] = pd.to_datetime(men['date'])\n",
    "women['date'] = pd.to_datetime(women['date'])\n",
    "\n"
   ],
   "id": "e29f456bd79d2748",
   "outputs": [],
   "execution_count": 18
  },
  {
   "metadata": {
    "ExecuteTime": {
     "end_time": "2025-07-07T21:33:16.471792Z",
     "start_time": "2025-07-07T21:33:16.390150Z"
    }
   },
   "cell_type": "code",
   "source": [
    "#2. Filtering the data, Filter the data to only include official FIFA World Cup matches that took place after 2002-01-01.\n",
    "\n",
    "men_fifa = men[(men['tournament'] == 'FIFA World Cup') & (men['date'] > '2002-01-01')]\n",
    "men_fifa.head()"
   ],
   "id": "8e26e1a1255ea109",
   "outputs": [
    {
     "data": {
      "text/plain": [
       "       Unnamed: 0       date            home_team     away_team  home_score  \\\n",
       "25164       25164 2002-05-31               France       Senegal           0   \n",
       "25165       25165 2002-06-01              Germany  Saudi Arabia           8   \n",
       "25166       25166 2002-06-01  Republic of Ireland      Cameroon           1   \n",
       "25167       25167 2002-06-01              Uruguay       Denmark           1   \n",
       "25168       25168 2002-06-02            Argentina       Nigeria           1   \n",
       "\n",
       "       away_score      tournament  \n",
       "25164           1  FIFA World Cup  \n",
       "25165           0  FIFA World Cup  \n",
       "25166           1  FIFA World Cup  \n",
       "25167           2  FIFA World Cup  \n",
       "25168           0  FIFA World Cup  "
      ],
      "text/html": [
       "<div>\n",
       "<style scoped>\n",
       "    .dataframe tbody tr th:only-of-type {\n",
       "        vertical-align: middle;\n",
       "    }\n",
       "\n",
       "    .dataframe tbody tr th {\n",
       "        vertical-align: top;\n",
       "    }\n",
       "\n",
       "    .dataframe thead th {\n",
       "        text-align: right;\n",
       "    }\n",
       "</style>\n",
       "<table border=\"1\" class=\"dataframe\">\n",
       "  <thead>\n",
       "    <tr style=\"text-align: right;\">\n",
       "      <th></th>\n",
       "      <th>Unnamed: 0</th>\n",
       "      <th>date</th>\n",
       "      <th>home_team</th>\n",
       "      <th>away_team</th>\n",
       "      <th>home_score</th>\n",
       "      <th>away_score</th>\n",
       "      <th>tournament</th>\n",
       "    </tr>\n",
       "  </thead>\n",
       "  <tbody>\n",
       "    <tr>\n",
       "      <th>25164</th>\n",
       "      <td>25164</td>\n",
       "      <td>2002-05-31</td>\n",
       "      <td>France</td>\n",
       "      <td>Senegal</td>\n",
       "      <td>0</td>\n",
       "      <td>1</td>\n",
       "      <td>FIFA World Cup</td>\n",
       "    </tr>\n",
       "    <tr>\n",
       "      <th>25165</th>\n",
       "      <td>25165</td>\n",
       "      <td>2002-06-01</td>\n",
       "      <td>Germany</td>\n",
       "      <td>Saudi Arabia</td>\n",
       "      <td>8</td>\n",
       "      <td>0</td>\n",
       "      <td>FIFA World Cup</td>\n",
       "    </tr>\n",
       "    <tr>\n",
       "      <th>25166</th>\n",
       "      <td>25166</td>\n",
       "      <td>2002-06-01</td>\n",
       "      <td>Republic of Ireland</td>\n",
       "      <td>Cameroon</td>\n",
       "      <td>1</td>\n",
       "      <td>1</td>\n",
       "      <td>FIFA World Cup</td>\n",
       "    </tr>\n",
       "    <tr>\n",
       "      <th>25167</th>\n",
       "      <td>25167</td>\n",
       "      <td>2002-06-01</td>\n",
       "      <td>Uruguay</td>\n",
       "      <td>Denmark</td>\n",
       "      <td>1</td>\n",
       "      <td>2</td>\n",
       "      <td>FIFA World Cup</td>\n",
       "    </tr>\n",
       "    <tr>\n",
       "      <th>25168</th>\n",
       "      <td>25168</td>\n",
       "      <td>2002-06-02</td>\n",
       "      <td>Argentina</td>\n",
       "      <td>Nigeria</td>\n",
       "      <td>1</td>\n",
       "      <td>0</td>\n",
       "      <td>FIFA World Cup</td>\n",
       "    </tr>\n",
       "  </tbody>\n",
       "</table>\n",
       "</div>"
      ]
     },
     "execution_count": 23,
     "metadata": {},
     "output_type": "execute_result"
    }
   ],
   "execution_count": 23
  },
  {
   "metadata": {
    "ExecuteTime": {
     "end_time": "2025-07-07T21:34:42.707181Z",
     "start_time": "2025-07-07T21:34:42.676848Z"
    }
   },
   "cell_type": "code",
   "source": [
    "women_fifa = women[(women['tournament'] == 'FIFA World Cup') & (women['date'] > '2002-01-01')]\n",
    "women_fifa.head()"
   ],
   "id": "410cd0639b6b8d41",
   "outputs": [
    {
     "data": {
      "text/plain": [
       "      Unnamed: 0       date      home_team    away_team  home_score  \\\n",
       "1600        1600 2003-09-20        Nigeria  North Korea           0   \n",
       "1601        1601 2003-09-20         Norway       France           2   \n",
       "1602        1602 2003-09-20        Germany       Canada           4   \n",
       "1603        1603 2003-09-20          Japan    Argentina           6   \n",
       "1604        1604 2003-09-21  United States       Sweden           3   \n",
       "\n",
       "      away_score      tournament  \n",
       "1600           3  FIFA World Cup  \n",
       "1601           0  FIFA World Cup  \n",
       "1602           1  FIFA World Cup  \n",
       "1603           0  FIFA World Cup  \n",
       "1604           1  FIFA World Cup  "
      ],
      "text/html": [
       "<div>\n",
       "<style scoped>\n",
       "    .dataframe tbody tr th:only-of-type {\n",
       "        vertical-align: middle;\n",
       "    }\n",
       "\n",
       "    .dataframe tbody tr th {\n",
       "        vertical-align: top;\n",
       "    }\n",
       "\n",
       "    .dataframe thead th {\n",
       "        text-align: right;\n",
       "    }\n",
       "</style>\n",
       "<table border=\"1\" class=\"dataframe\">\n",
       "  <thead>\n",
       "    <tr style=\"text-align: right;\">\n",
       "      <th></th>\n",
       "      <th>Unnamed: 0</th>\n",
       "      <th>date</th>\n",
       "      <th>home_team</th>\n",
       "      <th>away_team</th>\n",
       "      <th>home_score</th>\n",
       "      <th>away_score</th>\n",
       "      <th>tournament</th>\n",
       "    </tr>\n",
       "  </thead>\n",
       "  <tbody>\n",
       "    <tr>\n",
       "      <th>1600</th>\n",
       "      <td>1600</td>\n",
       "      <td>2003-09-20</td>\n",
       "      <td>Nigeria</td>\n",
       "      <td>North Korea</td>\n",
       "      <td>0</td>\n",
       "      <td>3</td>\n",
       "      <td>FIFA World Cup</td>\n",
       "    </tr>\n",
       "    <tr>\n",
       "      <th>1601</th>\n",
       "      <td>1601</td>\n",
       "      <td>2003-09-20</td>\n",
       "      <td>Norway</td>\n",
       "      <td>France</td>\n",
       "      <td>2</td>\n",
       "      <td>0</td>\n",
       "      <td>FIFA World Cup</td>\n",
       "    </tr>\n",
       "    <tr>\n",
       "      <th>1602</th>\n",
       "      <td>1602</td>\n",
       "      <td>2003-09-20</td>\n",
       "      <td>Germany</td>\n",
       "      <td>Canada</td>\n",
       "      <td>4</td>\n",
       "      <td>1</td>\n",
       "      <td>FIFA World Cup</td>\n",
       "    </tr>\n",
       "    <tr>\n",
       "      <th>1603</th>\n",
       "      <td>1603</td>\n",
       "      <td>2003-09-20</td>\n",
       "      <td>Japan</td>\n",
       "      <td>Argentina</td>\n",
       "      <td>6</td>\n",
       "      <td>0</td>\n",
       "      <td>FIFA World Cup</td>\n",
       "    </tr>\n",
       "    <tr>\n",
       "      <th>1604</th>\n",
       "      <td>1604</td>\n",
       "      <td>2003-09-21</td>\n",
       "      <td>United States</td>\n",
       "      <td>Sweden</td>\n",
       "      <td>3</td>\n",
       "      <td>1</td>\n",
       "      <td>FIFA World Cup</td>\n",
       "    </tr>\n",
       "  </tbody>\n",
       "</table>\n",
       "</div>"
      ]
     },
     "execution_count": 25,
     "metadata": {},
     "output_type": "execute_result"
    }
   ],
   "execution_count": 25
  },
  {
   "metadata": {},
   "cell_type": "code",
   "outputs": [],
   "execution_count": null,
   "source": "",
   "id": "6fb997715e8b01b6"
  }
 ],
 "metadata": {
  "kernelspec": {
   "display_name": "Python 3",
   "language": "python",
   "name": "python3"
  },
  "language_info": {
   "codemirror_mode": {
    "name": "ipython",
    "version": 2
   },
   "file_extension": ".py",
   "mimetype": "text/x-python",
   "name": "python",
   "nbconvert_exporter": "python",
   "pygments_lexer": "ipython2",
   "version": "2.7.6"
  }
 },
 "nbformat": 4,
 "nbformat_minor": 5
}
